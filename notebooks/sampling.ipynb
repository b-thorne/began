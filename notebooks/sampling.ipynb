{
 "cells": [
  {
   "cell_type": "code",
   "execution_count": null,
   "metadata": {},
   "outputs": [],
   "source": [
    "using BenchmarkTools\n",
    "using PyCall\n",
    "using PyPlot\n",
    "using Setfield\n",
    "using Random\n",
    "using Statistics\n",
    "using LinearAlgebra\n",
    "using CuArrays\n",
    "using Adapt\n",
    "using Zygote\n",
    "using Zygote: @adjoint\n",
    "\n",
    "using Revise\n",
    "using CMBLensing"
   ]
  },
  {
   "cell_type": "code",
   "execution_count": null,
   "metadata": {},
   "outputs": [],
   "source": [
    "py\"\"\"\n",
    "import numpy as np\n",
    "import tensorflow as tf\n",
    "import began\n",
    "\"\"\""
   ]
  },
  {
   "cell_type": "code",
   "execution_count": null,
   "metadata": {},
   "outputs": [],
   "source": [
    "θpix = 20*60/256;"
   ]
  },
  {
   "cell_type": "code",
   "execution_count": null,
   "metadata": {},
   "outputs": [],
   "source": [
    "py\"\"\"\n",
    "model = began.CVAE(256,5);\n",
    "model.load_weights(\"dat/vae.h5\")\n",
    "\"\"\""
   ]
  },
  {
   "cell_type": "code",
   "execution_count": null,
   "metadata": {},
   "outputs": [],
   "source": [
    "dust(θg) = cu(FlatMap(py\"model.decode($(collect(θg'[:,:]))).numpy()\"[1,:,:,1], θpix=θpix))"
   ]
  },
  {
   "cell_type": "code",
   "execution_count": null,
   "metadata": {},
   "outputs": [],
   "source": [
    "py\"\"\"\n",
    "def grad_backp(v, z):\n",
    "    v = v.astype(np.float32)\n",
    "    z = z.astype(np.float32)\n",
    "    assert v.ndim == 2\n",
    "    assert v.shape[-1] == 1\n",
    "    z = tf.constant(z)\n",
    "    with tf.GradientTape() as tape:\n",
    "        tape.watch(z)\n",
    "        genned_image = model.decode(z)\n",
    "        back = tf.tensordot(tf.reshape(genned_image, (1, 256 ** 2)), v, axes=[[1], [0]])\n",
    "    return tape.gradient(back, z)\n",
    "\"\"\"\n",
    "\n",
    "@adjoint dust(θg) = dust(θg), Δ -> (cu(py\"grad_backp($(Array(Map(Δ)[:])[:,:]), $(collect(θg'[:,:]))).numpy()\"[:]),)"
   ]
  },
  {
   "cell_type": "code",
   "execution_count": null,
   "metadata": {},
   "outputs": [],
   "source": [
    "animate(map(1:10) do i\n",
    "    dust(randn(Float32,256))\n",
    "end, fps=5)"
   ]
  },
  {
   "cell_type": "code",
   "execution_count": null,
   "metadata": {},
   "outputs": [],
   "source": [
    "@unpack f, ds = load_sim_dataset(\n",
    "    Nside = 256,\n",
    "    θpix = θpix,\n",
    "    pol = :I,\n",
    "    storage = CuArray\n",
    ");"
   ]
  },
  {
   "cell_type": "code",
   "execution_count": null,
   "metadata": {},
   "outputs": [],
   "source": [
    "function lnP(::Val{:dust}, f, θg, ds)\n",
    "    \n",
    "    @unpack Cf,Cn,d = ds\n",
    "    \n",
    "    Δ = d - f - dust(θg)\n",
    "    \n",
    "    -1/2f0 * (\n",
    "        Δ' * pinv(Cn) * Δ +\n",
    "        f' * pinv(Cf) * f +\n",
    "        θg' * θg\n",
    "    )\n",
    "    \n",
    "end"
   ]
  },
  {
   "cell_type": "code",
   "execution_count": null,
   "metadata": {},
   "outputs": [],
   "source": [
    "lnP(Val(:dust), f, θg₀, ds)"
   ]
  },
  {
   "cell_type": "code",
   "execution_count": null,
   "metadata": {},
   "outputs": [],
   "source": [
    "f = Map(f);"
   ]
  },
  {
   "cell_type": "code",
   "execution_count": null,
   "metadata": {},
   "outputs": [],
   "source": [
    "gradient((f,θg) -> lnP(Val(:dust), f, θg, ds), f, θg₀)"
   ]
  },
  {
   "cell_type": "code",
   "execution_count": null,
   "metadata": {},
   "outputs": [],
   "source": [
    "argmaxf_lnP(NoLensing(), ds, which=:sample) |> plot"
   ]
  }
 ],
 "metadata": {
  "kernelspec": {
   "display_name": "Julia 1.3.1 (global project)",
   "language": "julia",
   "name": "julia-1.3-global"
  },
  "language_info": {
   "file_extension": ".jl",
   "mimetype": "application/julia",
   "name": "julia",
   "version": "1.3.1"
  }
 },
 "nbformat": 4,
 "nbformat_minor": 4
}
