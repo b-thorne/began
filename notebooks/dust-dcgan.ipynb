{
 "cells": [
  {
   "cell_type": "code",
   "execution_count": 1,
   "metadata": {},
   "outputs": [],
   "source": [
    "from __future__ import absolute_import, division, print_function, unicode_literals\n",
    "\n",
    "import tensorflow as tf\n",
    "\n",
    "import os\n",
    "import time\n",
    "import numpy as np\n",
    "import glob\n",
    "import matplotlib.pyplot as plt\n",
    "import PIL\n",
    "import imageio\n",
    "from pathlib import Path\n",
    "from began import build_discriminator, build_generator, build_adversarial_model, training_schedule\n",
    "\n",
    "from IPython import display"
   ]
  },
  {
   "cell_type": "code",
   "execution_count": 2,
   "metadata": {},
   "outputs": [],
   "source": [
    "data_dir = Path(\"../data/preprocessed\")\n",
    "training_data = np.load(data_dir / \"GNILC_dust_map.npy\")\n",
    "MODEL_DIR = Path(\"../models\")"
   ]
  },
  {
   "cell_type": "code",
   "execution_count": 3,
   "metadata": {},
   "outputs": [
    {
     "data": {
      "text/plain": [
       "(1033, 256, 256, 1)"
      ]
     },
     "execution_count": 3,
     "metadata": {},
     "output_type": "execute_result"
    }
   ],
   "source": [
    "training_data.shape"
   ]
  },
  {
   "cell_type": "code",
   "execution_count": 4,
   "metadata": {},
   "outputs": [],
   "source": [
    "TRAIN_BUFF = 1033\n",
    "BATCH_SIZE = 32"
   ]
  },
  {
   "cell_type": "code",
   "execution_count": 5,
   "metadata": {},
   "outputs": [],
   "source": [
    "train_images = tf.data.Dataset.from_tensor_slices(training_data).shuffle(TRAIN_BUFF).batch(BATCH_SIZE)"
   ]
  },
  {
   "cell_type": "code",
   "execution_count": 6,
   "metadata": {},
   "outputs": [],
   "source": [
    "# Network architecture\n",
    "DEPTH = 32\n",
    "IMG_DIM = 256\n",
    "CHANNELS = 1\n",
    "KERNELS = [5, 5, 5]\n",
    "STRIDES = [2, 2, 2]\n",
    "FILTERS = [DEPTH * 2 ** i for i in range(len(KERNELS))]\n",
    "LATENT_DIM = 64"
   ]
  },
  {
   "cell_type": "code",
   "execution_count": 7,
   "metadata": {},
   "outputs": [],
   "source": [
    "# Derived parameters\n",
    "SHAPE = (IMG_DIM, IMG_DIM, CHANNELS)"
   ]
  },
  {
   "cell_type": "code",
   "execution_count": 8,
   "metadata": {},
   "outputs": [],
   "source": [
    "# Training parameters\n",
    "BATCH_SIZE = 32"
   ]
  },
  {
   "cell_type": "code",
   "execution_count": 9,
   "metadata": {},
   "outputs": [
    {
     "name": "stdout",
     "output_type": "stream",
     "text": [
      "Model: \"Generator\"\n",
      "_________________________________________________________________\n",
      "Layer (type)                 Output Shape              Param #   \n",
      "=================================================================\n",
      "Dense_G (Dense)              (None, 131072)            8519680   \n",
      "_________________________________________________________________\n",
      "Reshape (Reshape)            (None, 32, 32, 128)       0         \n",
      "_________________________________________________________________\n",
      "BNorm_G1 (BatchNormalization (None, 32, 32, 128)       512       \n",
      "_________________________________________________________________\n",
      "LRelu_G1 (LeakyReLU)         (None, 32, 32, 128)       0         \n",
      "_________________________________________________________________\n",
      "UpSample_1 (UpSampling2D)    (None, 64, 64, 128)       0         \n",
      "_________________________________________________________________\n",
      "Conv2D_G1 (Conv2D)           (None, 64, 64, 64)        204864    \n",
      "_________________________________________________________________\n",
      "BN_G2 (BatchNormalization)   (None, 64, 64, 64)        256       \n",
      "_________________________________________________________________\n",
      "LRelu_G2 (LeakyReLU)         (None, 64, 64, 64)        0         \n",
      "_________________________________________________________________\n",
      "UpSample_2 (UpSampling2D)    (None, 128, 128, 64)      0         \n",
      "_________________________________________________________________\n",
      "Conv2D_G2 (Conv2D)           (None, 128, 128, 32)      51232     \n",
      "_________________________________________________________________\n",
      "BN_G3 (BatchNormalization)   (None, 128, 128, 32)      128       \n",
      "_________________________________________________________________\n",
      "LRelu_G3 (LeakyReLU)         (None, 128, 128, 32)      0         \n",
      "_________________________________________________________________\n",
      "UpSample_3 (UpSampling2D)    (None, 256, 256, 32)      0         \n",
      "_________________________________________________________________\n",
      "Conv2D_G3 (Conv2D)           (None, 256, 256, 1)       801       \n",
      "_________________________________________________________________\n",
      "Tanh (Activation)            (None, 256, 256, 1)       0         \n",
      "_________________________________________________________________\n",
      "Crop2D (Cropping2D)          (None, 256, 256, 1)       0         \n",
      "=================================================================\n",
      "Total params: 8,777,473\n",
      "Trainable params: 8,777,025\n",
      "Non-trainable params: 448\n",
      "_________________________________________________________________\n",
      "None\n"
     ]
    }
   ],
   "source": [
    "# Build inidividual and joint models.\n",
    "DIS = build_discriminator(FILTERS, KERNELS, STRIDES, SHAPE)\n",
    "GEN = build_generator(DIS, FILTERS, KERNELS, STRIDES, LATENT_DIM, SHAPE)\n",
    "ADV = build_adversarial_model(DIS, GEN)\n",
    "print(GEN.summary())"
   ]
  },
  {
   "cell_type": "code",
   "execution_count": 10,
   "metadata": {},
   "outputs": [
    {
     "name": "stdout",
     "output_type": "stream",
     "text": [
      "32\n",
      "32\n",
      "32\n",
      "32\n",
      "32\n",
      "32\n",
      "32\n",
      "32\n",
      "32\n",
      "32\n",
      "32\n",
      "32\n",
      "32\n",
      "32\n",
      "32\n",
      "32\n",
      "32\n",
      "32\n",
      "32\n",
      "32\n",
      "32\n",
      "32\n",
      "32\n",
      "32\n",
      "32\n",
      "32\n",
      "32\n",
      "32\n",
      "32\n",
      "32\n",
      "32\n",
      "32\n",
      "9\n"
     ]
    }
   ],
   "source": [
    "trained_model = training_schedule(DIS, GEN, ADV, train_images,\n",
    "        LATENT_DIM)"
   ]
  },
  {
   "cell_type": "code",
   "execution_count": 11,
   "metadata": {},
   "outputs": [],
   "source": [
    "trained_model.save(str(MODEL_DIR / \"dust_dcgan.h5\"))"
   ]
  },
  {
   "cell_type": "code",
   "execution_count": null,
   "metadata": {},
   "outputs": [],
   "source": []
  }
 ],
 "metadata": {
  "kernelspec": {
   "display_name": "Python 3",
   "language": "python",
   "name": "python3"
  },
  "language_info": {
   "codemirror_mode": {
    "name": "ipython",
    "version": 3
   },
   "file_extension": ".py",
   "mimetype": "text/x-python",
   "name": "python",
   "nbconvert_exporter": "python",
   "pygments_lexer": "ipython3",
   "version": "3.7.5"
  }
 },
 "nbformat": 4,
 "nbformat_minor": 4
}
