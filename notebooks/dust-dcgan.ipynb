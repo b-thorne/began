{
 "cells": [
  {
   "cell_type": "code",
   "execution_count": 27,
   "metadata": {},
   "outputs": [],
   "source": [
    "from __future__ import absolute_import, division, print_function, unicode_literals\n",
    "\n",
    "import tensorflow as tf\n",
    "\n",
    "import os\n",
    "import time\n",
    "import numpy as np\n",
    "import glob\n",
    "import matplotlib.pyplot as plt\n",
    "import PIL\n",
    "import imageio\n",
    "from pathlib import Path\n",
    "from began import build_discriminator, build_generator, build_adversarial_model\n",
    "\n",
    "from IPython import display"
   ]
  },
  {
   "cell_type": "code",
   "execution_count": 6,
   "metadata": {},
   "outputs": [],
   "source": [
    "data_dir = Path(\"../data/preprocessed\")\n",
    "training_data = np.load(data_dir / \"GNILC_dust_map.npy\")"
   ]
  },
  {
   "cell_type": "code",
   "execution_count": 7,
   "metadata": {},
   "outputs": [
    {
     "data": {
      "text/plain": [
       "(1033, 256, 256, 1)"
      ]
     },
     "execution_count": 7,
     "metadata": {},
     "output_type": "execute_result"
    }
   ],
   "source": [
    "training_data.shape"
   ]
  },
  {
   "cell_type": "code",
   "execution_count": 17,
   "metadata": {},
   "outputs": [],
   "source": [
    "TRAIN_BUFF = 1033\n",
    "BATCH_SIZE = 32"
   ]
  },
  {
   "cell_type": "code",
   "execution_count": 18,
   "metadata": {},
   "outputs": [],
   "source": [
    "train_images = tf.data.Dataset.from_tensor_slices(training_data).shuffle(TRAIN_BUFF).batch(BATCH_SIZE)"
   ]
  },
  {
   "cell_type": "code",
   "execution_count": 21,
   "metadata": {},
   "outputs": [],
   "source": [
    "# Network architecture\n",
    "DEPTH = 32\n",
    "IMG_DIM = 28\n",
    "CHANNELS = 1\n",
    "KERNELS = [5, 5, 5]\n",
    "STRIDES = [2, 2, 2]\n",
    "FILTERS = [DEPTH * 2 ** i for i in range(len(KERNELS))]\n",
    "LATENT_DIM = 64"
   ]
  },
  {
   "cell_type": "code",
   "execution_count": 22,
   "metadata": {},
   "outputs": [],
   "source": [
    "# Derived parameters\n",
    "SHAPE = (IMG_DIM, IMG_DIM, CHANNELS)"
   ]
  },
  {
   "cell_type": "code",
   "execution_count": 25,
   "metadata": {},
   "outputs": [],
   "source": [
    "# Training parameters\n",
    "TRAIN_STEPS = 5000\n",
    "BATCH_SIZE = 32"
   ]
  },
  {
   "cell_type": "code",
   "execution_count": 28,
   "metadata": {},
   "outputs": [
    {
     "name": "stdout",
     "output_type": "stream",
     "text": [
      "Model: \"Generator\"\n",
      "_________________________________________________________________\n",
      "Layer (type)                 Output Shape              Param #   \n",
      "=================================================================\n",
      "Dense_G (Dense)              (None, 2048)              133120    \n",
      "_________________________________________________________________\n",
      "Reshape (Reshape)            (None, 4, 4, 128)         0         \n",
      "_________________________________________________________________\n",
      "BNorm_G1 (BatchNormalization (None, 4, 4, 128)         512       \n",
      "_________________________________________________________________\n",
      "LRelu_G1 (LeakyReLU)         (None, 4, 4, 128)         0         \n",
      "_________________________________________________________________\n",
      "UpSample_1 (UpSampling2D)    (None, 8, 8, 128)         0         \n",
      "_________________________________________________________________\n",
      "Conv2D_G1 (Conv2D)           (None, 8, 8, 64)          204864    \n",
      "_________________________________________________________________\n",
      "BN_G2 (BatchNormalization)   (None, 8, 8, 64)          256       \n",
      "_________________________________________________________________\n",
      "LRelu_G2 (LeakyReLU)         (None, 8, 8, 64)          0         \n",
      "_________________________________________________________________\n",
      "UpSample_2 (UpSampling2D)    (None, 16, 16, 64)        0         \n",
      "_________________________________________________________________\n",
      "Conv2D_G2 (Conv2D)           (None, 16, 16, 32)        51232     \n",
      "_________________________________________________________________\n",
      "BN_G3 (BatchNormalization)   (None, 16, 16, 32)        128       \n",
      "_________________________________________________________________\n",
      "LRelu_G3 (LeakyReLU)         (None, 16, 16, 32)        0         \n",
      "_________________________________________________________________\n",
      "UpSample_3 (UpSampling2D)    (None, 32, 32, 32)        0         \n",
      "_________________________________________________________________\n",
      "Conv2D_G3 (Conv2D)           (None, 32, 32, 1)         801       \n",
      "_________________________________________________________________\n",
      "Tanh (Activation)            (None, 32, 32, 1)         0         \n",
      "_________________________________________________________________\n",
      "Crop2D (Cropping2D)          (None, 28, 28, 1)         0         \n",
      "=================================================================\n",
      "Total params: 390,913\n",
      "Trainable params: 390,465\n",
      "Non-trainable params: 448\n",
      "_________________________________________________________________\n",
      "None\n"
     ]
    }
   ],
   "source": [
    "# Build inidividual and joint models.\n",
    "DIS = build_discriminator(FILTERS, KERNELS, STRIDES, SHAPE)\n",
    "GEN = build_generator(DIS, FILTERS, KERNELS, STRIDES, LATENT_DIM, SHAPE)\n",
    "ADV = build_adversarial_model(DIS, GEN)\n",
    "print(GEN.summary())"
   ]
  },
  {
   "cell_type": "code",
   "execution_count": null,
   "metadata": {},
   "outputs": [],
   "source": [
    "trained_model = training_schedule(DIS, GEN, ADV, X_TRAIN[:1000],\n",
    "        LATENT_DIM, TRAIN_STEPS, BATCH_SIZE)"
   ]
  },
  {
   "cell_type": "code",
   "execution_count": null,
   "metadata": {},
   "outputs": [],
   "source": [
    "trained_model.save(os.fspath(MODEL_PATH))"
   ]
  }
 ],
 "metadata": {
  "kernelspec": {
   "display_name": "Python 3",
   "language": "python",
   "name": "python3"
  },
  "language_info": {
   "codemirror_mode": {
    "name": "ipython",
    "version": 3
   },
   "file_extension": ".py",
   "mimetype": "text/x-python",
   "name": "python",
   "nbconvert_exporter": "python",
   "pygments_lexer": "ipython3",
   "version": "3.7.5"
  }
 },
 "nbformat": 4,
 "nbformat_minor": 4
}
