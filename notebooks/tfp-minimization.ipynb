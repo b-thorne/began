{
 "cells": [
  {
   "cell_type": "code",
   "execution_count": 4,
   "metadata": {},
   "outputs": [],
   "source": [
    "import tensorflow_probability as tfp\n",
    "import tensorflow as tf\n",
    "import numpy as np\n",
    "import matplotlib.pyplot as plt"
   ]
  },
  {
   "cell_type": "markdown",
   "metadata": {},
   "source": [
    "As an example we will take the minimization of a quadratic function from the Tensorflow Probability page."
   ]
  },
  {
   "cell_type": "code",
   "execution_count": 5,
   "metadata": {},
   "outputs": [],
   "source": [
    "# A high-dimensional quadratic bowl.\n",
    "ndims = 60\n",
    "minimum = np.ones([ndims], dtype='float64')\n",
    "scales = np.arange(ndims, dtype='float64') + 1.0\n",
    "\n",
    "# The objective function and the gradient.\n",
    "def quadratic_loss_and_gradient(x):\n",
    "    return tfp.math.value_and_gradient(\n",
    "        lambda x: tf.reduce_sum(\n",
    "        scales * tf.math.squared_difference(x, minimum), axis=-1),\n",
    "        x)\n",
    "start = np.arange(ndims, 0, -1, dtype='float64')\n",
    "optim_results = tfp.optimizer.lbfgs_minimize(\n",
    "    quadratic_loss_and_gradient,\n",
    "    initial_position=start,\n",
    "    num_correction_pairs=10,\n",
    "    tolerance=1e-8)\n",
    "\n",
    "# Check that the search converged\n",
    "assert(optim_results.converged)\n",
    "# Check that the argmin is close to the actual value.\n",
    "np.testing.assert_allclose(optim_results.position, minimum)"
   ]
  },
  {
   "cell_type": "code",
   "execution_count": 6,
   "metadata": {},
   "outputs": [
    {
     "name": "stdout",
     "output_type": "stream",
     "text": [
      "tf.Tensor(\n",
      "[1. 1. 1. 1. 1. 1. 1. 1. 1. 1. 1. 1. 1. 1. 1. 1. 1. 1. 1. 1. 1. 1. 1. 1.\n",
      " 1. 1. 1. 1. 1. 1. 1. 1. 1. 1. 1. 1. 1. 1. 1. 1. 1. 1. 1. 1. 1. 1. 1. 1.\n",
      " 1. 1. 1. 1. 1. 1. 1. 1. 1. 1. 1. 1.], shape=(60,), dtype=float64)\n"
     ]
    }
   ],
   "source": [
    "print(optim_results.position)"
   ]
  },
  {
   "cell_type": "markdown",
   "metadata": {},
   "source": [
    "Now we do a version with a loss function involving a tensorflow model"
   ]
  },
  {
   "cell_type": "code",
   "execution_count": 7,
   "metadata": {},
   "outputs": [
    {
     "name": "stdout",
     "output_type": "stream",
     "text": [
      "WARNING:tensorflow:No training configuration found in save file: the model was *not* compiled. Compile it manually.\n"
     ]
    }
   ],
   "source": [
    "gen = tf.keras.models.load_model(\"/home/bthorne/projects/gan/began/models/generator.h5\")"
   ]
  },
  {
   "cell_type": "code",
   "execution_count": 70,
   "metadata": {},
   "outputs": [],
   "source": [
    "z = np.random.randn(1, 64)\n",
    "ma = gen.predict(z).astype(np.float32)\n",
    "\n",
    "def L2(x):\n",
    "    return tf.reduce_sum((gen.predict(x) - ma) ** 2)"
   ]
  },
  {
   "cell_type": "code",
   "execution_count": 42,
   "metadata": {},
   "outputs": [],
   "source": [
    "def L2_loss_and_gradient(x):\n",
    "    with tf.GradientTape() as t:\n",
    "        t.watch(x)\n",
    "        l2 = L2(x)\n",
    "    return (l2, t.gradient(l2, x))"
   ]
  },
  {
   "cell_type": "code",
   "execution_count": null,
   "metadata": {},
   "outputs": [],
   "source": []
  },
  {
   "cell_type": "code",
   "execution_count": null,
   "metadata": {},
   "outputs": [],
   "source": []
  },
  {
   "cell_type": "code",
   "execution_count": null,
   "metadata": {},
   "outputs": [],
   "source": []
  },
  {
   "cell_type": "code",
   "execution_count": 56,
   "metadata": {},
   "outputs": [
    {
     "name": "stdout",
     "output_type": "stream",
     "text": [
      "tf.Tensor(1295.2013, shape=(), dtype=float32)\n"
     ]
    },
    {
     "ename": "TypeError",
     "evalue": "'NoneType' object is not subscriptable",
     "output_type": "error",
     "traceback": [
      "\u001b[0;31m---------------------------------------------------------------------------\u001b[0m",
      "\u001b[0;31mTypeError\u001b[0m                                 Traceback (most recent call last)",
      "\u001b[0;32m<ipython-input-56-2fb28552d872>\u001b[0m in \u001b[0;36m<module>\u001b[0;34m\u001b[0m\n\u001b[1;32m     10\u001b[0m \u001b[0;32mfor\u001b[0m \u001b[0mi\u001b[0m \u001b[0;32min\u001b[0m \u001b[0;34m[\u001b[0m\u001b[0;36m0\u001b[0m\u001b[0;34m]\u001b[0m\u001b[0;34m:\u001b[0m\u001b[0;34m\u001b[0m\u001b[0;34m\u001b[0m\u001b[0m\n\u001b[1;32m     11\u001b[0m     \u001b[0;32mfor\u001b[0m \u001b[0mj\u001b[0m \u001b[0;32min\u001b[0m \u001b[0;34m[\u001b[0m\u001b[0;36m0\u001b[0m\u001b[0;34m,\u001b[0m \u001b[0;36m1\u001b[0m\u001b[0;34m,\u001b[0m \u001b[0;36m2\u001b[0m\u001b[0;34m,\u001b[0m \u001b[0;36m3\u001b[0m\u001b[0;34m]\u001b[0m\u001b[0;34m:\u001b[0m\u001b[0;34m\u001b[0m\u001b[0;34m\u001b[0m\u001b[0m\n\u001b[0;32m---> 12\u001b[0;31m         \u001b[0mprint\u001b[0m\u001b[0;34m(\u001b[0m\u001b[0mdz_dx\u001b[0m\u001b[0;34m[\u001b[0m\u001b[0mi\u001b[0m\u001b[0;34m]\u001b[0m\u001b[0;34m[\u001b[0m\u001b[0mj\u001b[0m\u001b[0;34m]\u001b[0m\u001b[0;34m.\u001b[0m\u001b[0mnumpy\u001b[0m\u001b[0;34m(\u001b[0m\u001b[0;34m)\u001b[0m\u001b[0;34m)\u001b[0m\u001b[0;34m\u001b[0m\u001b[0;34m\u001b[0m\u001b[0m\n\u001b[0m",
      "\u001b[0;31mTypeError\u001b[0m: 'NoneType' object is not subscriptable"
     ]
    }
   ],
   "source": [
    "x = tf.ones((1, 64))\n",
    "\n",
    "with tf.GradientTape() as tape:\n",
    "    tape.watch(x)\n",
    "    l2 = tf.reduce_sum((gen.predict(x) - ma) ** 2)\n",
    "    print(l2)\n",
    "\n",
    "# Derivative of z with respect to the original input tensor x\n",
    "deriv = tape.gradient(l2, x)\n",
    "for i in [0]:\n",
    "    for j in [0, 1, 2, 3]:\n",
    "        print(deriv[i][j].numpy())"
   ]
  },
  {
   "cell_type": "code",
   "execution_count": 75,
   "metadata": {},
   "outputs": [
    {
     "data": {
      "text/plain": [
       "(<tf.Tensor: id=76696, shape=(1,), dtype=float32, numpy=array([33.022358], dtype=float32)>,\n",
       " <tf.Tensor: id=76694, shape=(1, 64), dtype=float64, numpy=\n",
       " array([[ -0.89289856,   1.32341576,  -2.99841976,   3.4519701 ,\n",
       "          -0.31361657,   3.30504322,   4.34295177,   2.95539474,\n",
       "          -0.60194403,   4.93278122,  -4.4894371 ,  -2.99535131,\n",
       "          -5.74884558,   2.80302334,   2.53488255,   0.27077323,\n",
       "           3.10876513,   0.09188875,  -3.03056192,  -4.40508842,\n",
       "          -0.10247567,   2.09511042,  -1.19640851,  -6.44440556,\n",
       "           7.17199039,   5.58401203,   0.32892159,  -0.51302135,\n",
       "           4.07422543,   4.61970425,  -0.11202317,   1.7446295 ,\n",
       "           3.44594526,  -1.08598506,   0.63064194,  -5.57563734,\n",
       "           3.43859553,  -2.03553843,  -3.85138941,   3.49205637,\n",
       "           4.65538216,   1.17041981,   8.19942474,  -0.02850474,\n",
       "           6.19026566,  -3.30926323,  -1.76382256,   1.38544774,\n",
       "          -2.17969513,  -0.01984363,   0.65391171,   1.02674162,\n",
       "          -5.71026039,  -3.93916559,   0.98218685,  -0.6561603 ,\n",
       "           8.88267422, -10.64654922,  -2.15033984,   0.91015637,\n",
       "           2.80105305,   2.40179443,  -2.03916979,  -4.60465717]])>)"
      ]
     },
     "execution_count": 75,
     "metadata": {},
     "output_type": "execute_result"
    }
   ],
   "source": [
    "def l2(x):\n",
    "    with tf.GradientTape() as tape:\n",
    "        tape.watch(x)\n",
    "        loss_value = tf.linalg.norm(gen(x) - ma)\n",
    "    jac = tape.gradient(loss_value,x)\n",
    "    loss_value = tf.reshape(loss_value, [1])\n",
    "    return loss_value,jac\n",
    "\n",
    "l2(tf.Variable(np.random.randn(1, 64)))"
   ]
  },
  {
   "cell_type": "code",
   "execution_count": 77,
   "metadata": {},
   "outputs": [],
   "source": [
    "x = tf.Variable(np.random.randn(1, 64), dtype=np.float32)\n",
    "opt = tfp.optimizer.lbfgs_minimize(l2, initial_position=x, tolerance=1e-03, max_iterations=200)"
   ]
  },
  {
   "cell_type": "code",
   "execution_count": null,
   "metadata": {},
   "outputs": [],
   "source": []
  },
  {
   "cell_type": "code",
   "execution_count": null,
   "metadata": {},
   "outputs": [],
   "source": []
  },
  {
   "cell_type": "code",
   "execution_count": 86,
   "metadata": {},
   "outputs": [
    {
     "data": {
      "text/plain": [
       "[<matplotlib.lines.Line2D at 0x7f4be84061d0>]"
      ]
     },
     "execution_count": 86,
     "metadata": {},
     "output_type": "execute_result"
    },
    {
     "data": {
      "image/png": "[encoded data removed]",
      "text/plain": [
       "<Figure size 432x288 with 1 Axes>"
      ]
     },
     "metadata": {
      "needs_background": "light"
     },
     "output_type": "display_data"
    }
   ],
   "source": [
    "fig, ax = plt.subplots(1, 1)\n",
    "ax.scatter(z, opt.position.numpy())\n",
    "ax.plot(np.linspace(-2, 2), np.linspace(-2, 2))"
   ]
  },
  {
   "cell_type": "code",
   "execution_count": null,
   "metadata": {},
   "outputs": [],
   "source": []
  }
 ],
 "metadata": {
  "kernelspec": {
   "display_name": "Python 3",
   "language": "python",
   "name": "python3"
  },
  "language_info": {
   "codemirror_mode": {
    "name": "ipython",
    "version": 3
   },
   "file_extension": ".py",
   "mimetype": "text/x-python",
   "name": "python",
   "nbconvert_exporter": "python",
   "pygments_lexer": "ipython3",
   "version": "3.7.5"
  }
 },
 "nbformat": 4,
 "nbformat_minor": 4
}
