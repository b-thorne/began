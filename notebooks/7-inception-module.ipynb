{
 "cells": [
  {
   "cell_type": "code",
   "execution_count": 93,
   "metadata": {},
   "outputs": [
    {
     "name": "stdout",
     "output_type": "stream",
     "text": [
      "The autoreload extension is already loaded. To reload it, use:\n",
      "  %reload_ext autoreload\n"
     ]
    }
   ],
   "source": [
    "import os\n",
    "import sys\n",
    "import math\n",
    "import logging\n",
    "import yaml\n",
    "import h5py\n",
    "from pathlib import Path\n",
    "\n",
    "import kerastuner as kt\n",
    "\n",
    "import numpy as np\n",
    "import scipy as sp\n",
    "import tensorflow as tf\n",
    "\n",
    "\n",
    "%load_ext autoreload\n",
    "%autoreload 2\n",
    "\n",
    "import matplotlib as mpl\n",
    "import matplotlib.pyplot as plt\n",
    "%matplotlib inline\n",
    "\n",
    "import seaborn as sns\n",
    "sns.set_context(\"poster\")\n",
    "sns.set(rc={'figure.figsize': (16, 9.)})\n",
    "sns.set_style(\"whitegrid\")\n",
    "\n",
    "import pandas as pd\n",
    "pd.set_option(\"display.max_rows\", 120)\n",
    "pd.set_option(\"display.max_columns\", 120)\n",
    "\n",
    "import began\n",
    "from began.logging import setup_vae_run_logging\n",
    "from began.vae import inception_module\n",
    "\n",
    "from tensorflow.keras.layers import Conv2D, BatchNormalization, MaxPooling2D, Concatenate, Dense, Reshape, Input, UpSampling2D, Conv2DTranspose\n",
    "from tensorflow.keras.models import Model\n",
    "\n",
    "logging.basicConfig(level=logging.INFO, stream=sys.stdout)"
   ]
  },
  {
   "cell_type": "code",
   "execution_count": 95,
   "metadata": {},
   "outputs": [],
   "source": [
    "# function for creating a naive inception block\n",
    "def inception_module(layer_in, f1, f2, f3):\n",
    "    \"\"\" An implementation of the Inception module.\n",
    "    \"\"\"\n",
    "    # 1x1 conv\n",
    "    conv1 = Conv2D(f1, (1,1), padding='same', activation='relu')(layer_in)\n",
    "    # 3x3 conv\n",
    "    conv3 = Conv2D(f2, (3,3), padding='same', activation='relu')(layer_in)\n",
    "    # 5x5 conv\n",
    "    conv5 = Conv2D(f3, (5,5), padding='same', activation='relu')(layer_in)\n",
    "    # 3x3 max pooling\n",
    "    pool = MaxPooling2D((3,3), strides=(1,1), padding='same')(layer_in)\n",
    "    # concatenate filters, assumes filters/channels last\n",
    "    layer_out = Concatenate(axis=-1)([conv1, conv3, conv5, pool])\n",
    "    return layer_out"
   ]
  },
  {
   "cell_type": "code",
   "execution_count": 89,
   "metadata": {},
   "outputs": [
    {
     "name": "stdout",
     "output_type": "stream",
     "text": [
      "Model: \"model_8\"\n",
      "_________________________________________________________________\n",
      "Layer (type)                 Output Shape              Param #   \n",
      "=================================================================\n",
      "input_34 (InputLayer)        [(None, 128)]             0         \n",
      "_________________________________________________________________\n",
      "dense_25 (Dense)             (None, 8192)              1056768   \n",
      "_________________________________________________________________\n",
      "reshape_22 (Reshape)         (None, 16, 16, 32)        0         \n",
      "_________________________________________________________________\n",
      "batch_normalization_82 (Batc (None, 16, 16, 32)        128       \n",
      "_________________________________________________________________\n",
      "conv2d_transpose_8 (Conv2DTr (None, 32, 32, 128)       102528    \n",
      "_________________________________________________________________\n",
      "batch_normalization_83 (Batc (None, 32, 32, 128)       512       \n",
      "_________________________________________________________________\n",
      "conv2d_transpose_9 (Conv2DTr (None, 64, 64, 128)       409728    \n",
      "_________________________________________________________________\n",
      "batch_normalization_84 (Batc (None, 64, 64, 128)       512       \n",
      "_________________________________________________________________\n",
      "conv2d_transpose_10 (Conv2DT (None, 128, 128, 128)     409728    \n",
      "_________________________________________________________________\n",
      "batch_normalization_85 (Batc (None, 128, 128, 128)     512       \n",
      "_________________________________________________________________\n",
      "conv2d_transpose_11 (Conv2DT (None, 256, 256, 128)     409728    \n",
      "_________________________________________________________________\n",
      "conv2d_transpose_12 (Conv2DT (None, 256, 256, 1)       3201      \n",
      "=================================================================\n",
      "Total params: 2,393,345\n",
      "Trainable params: 2,392,513\n",
      "Non-trainable params: 832\n",
      "_________________________________________________________________\n"
     ]
    }
   ],
   "source": [
    "lat_dim = 128\n",
    "latz = Input((lat_dim,))\n",
    "\n",
    "dlr0 = Dense(units=(16 * 16 * 32), activation=tf.nn.relu)(latz)\n",
    "res0 = Reshape(target_shape=(16, 16, 32))(dlr0)\n",
    "assert res0.shape.as_list() == [None, 16, 16, 32]\n",
    "\n",
    "btn0 = BatchNormalization(momentum=0.9)(res0)\n",
    "cvt0 = Conv2DTranspose(filters=128, kernel_size=5, strides=(2, 2), padding=\"SAME\", activation='relu')(btn0)\n",
    "assert cvt0.shape.as_list() == [None, 32, 32, 128]\n",
    "\n",
    "btn1 = BatchNormalization(momentum=0.9)(cvt0)\n",
    "cvt1 = Conv2DTranspose(filters=128, kernel_size=5, strides=(2, 2), padding=\"SAME\", activation='relu')(btn1)\n",
    "assert cvt1.shape.as_list() == [None, 64, 64, 128]\n",
    "\n",
    "btn2 = BatchNormalization(momentum=0.9)(cvt1)\n",
    "cvt2 = Conv2DTranspose(filters=128, kernel_size=5, strides=(2, 2), padding=\"SAME\", activation='relu')(btn2)\n",
    "assert cvt2.shape.as_list() == [None, 128, 128, 128]\n",
    "\n",
    "btn3 = BatchNormalization(momentum=0.9)(cvt2)\n",
    "cvt3 = Conv2DTranspose(filters=128, kernel_size=5, strides=(2, 2), padding=\"SAME\", activation='relu')(btn3)\n",
    "assert cvt3.shape.as_list() == [None, 256, 256, 128]\n",
    "\n",
    "cvt4 = Conv2DTranspose(filters=1, kernel_size=5, strides=(1, 1), padding=\"SAME\")(cvt3)\n",
    "\n",
    "model = Model([latz], cvt4)\n",
    "\n",
    "model.summary()"
   ]
  },
  {
   "cell_type": "code",
   "execution_count": 115,
   "metadata": {},
   "outputs": [
    {
     "name": "stdout",
     "output_type": "stream",
     "text": [
      "(None, 128, 128, 704)\n",
      "Model: \"model_16\"\n",
      "__________________________________________________________________________________________________\n",
      "Layer (type)                    Output Shape         Param #     Connected to                     \n",
      "==================================================================================================\n",
      "input_55 (InputLayer)           [(None, 128)]        0                                            \n",
      "__________________________________________________________________________________________________\n",
      "dense_46 (Dense)                (None, 8192)         1056768     input_55[0][0]                   \n",
      "__________________________________________________________________________________________________\n",
      "reshape_43 (Reshape)            (None, 16, 16, 32)   0           dense_46[0][0]                   \n",
      "__________________________________________________________________________________________________\n",
      "batch_normalization_134 (BatchN (None, 16, 16, 32)   128         reshape_43[0][0]                 \n",
      "__________________________________________________________________________________________________\n",
      "conv2d_194 (Conv2D)             (None, 16, 16, 32)   1056        batch_normalization_134[0][0]    \n",
      "__________________________________________________________________________________________________\n",
      "conv2d_195 (Conv2D)             (None, 16, 16, 128)  36992       batch_normalization_134[0][0]    \n",
      "__________________________________________________________________________________________________\n",
      "conv2d_196 (Conv2D)             (None, 16, 16, 64)   51264       batch_normalization_134[0][0]    \n",
      "__________________________________________________________________________________________________\n",
      "max_pooling2d_40 (MaxPooling2D) (None, 16, 16, 32)   0           batch_normalization_134[0][0]    \n",
      "__________________________________________________________________________________________________\n",
      "concatenate_33 (Concatenate)    (None, 16, 16, 256)  0           conv2d_194[0][0]                 \n",
      "                                                                 conv2d_195[0][0]                 \n",
      "                                                                 conv2d_196[0][0]                 \n",
      "                                                                 max_pooling2d_40[0][0]           \n",
      "__________________________________________________________________________________________________\n",
      "up_sampling2d_24 (UpSampling2D) (None, 32, 32, 256)  0           concatenate_33[0][0]             \n",
      "__________________________________________________________________________________________________\n",
      "batch_normalization_135 (BatchN (None, 32, 32, 256)  1024        up_sampling2d_24[0][0]           \n",
      "__________________________________________________________________________________________________\n",
      "conv2d_197 (Conv2D)             (None, 32, 32, 32)   8224        batch_normalization_135[0][0]    \n",
      "__________________________________________________________________________________________________\n",
      "conv2d_198 (Conv2D)             (None, 32, 32, 128)  295040      batch_normalization_135[0][0]    \n",
      "__________________________________________________________________________________________________\n",
      "conv2d_199 (Conv2D)             (None, 32, 32, 64)   409664      batch_normalization_135[0][0]    \n",
      "__________________________________________________________________________________________________\n",
      "max_pooling2d_41 (MaxPooling2D) (None, 32, 32, 256)  0           batch_normalization_135[0][0]    \n",
      "__________________________________________________________________________________________________\n",
      "concatenate_34 (Concatenate)    (None, 32, 32, 480)  0           conv2d_197[0][0]                 \n",
      "                                                                 conv2d_198[0][0]                 \n",
      "                                                                 conv2d_199[0][0]                 \n",
      "                                                                 max_pooling2d_41[0][0]           \n",
      "__________________________________________________________________________________________________\n",
      "up_sampling2d_25 (UpSampling2D) (None, 64, 64, 480)  0           concatenate_34[0][0]             \n",
      "__________________________________________________________________________________________________\n",
      "batch_normalization_136 (BatchN (None, 64, 64, 480)  1920        up_sampling2d_25[0][0]           \n",
      "__________________________________________________________________________________________________\n",
      "conv2d_200 (Conv2D)             (None, 64, 64, 32)   15392       batch_normalization_136[0][0]    \n",
      "__________________________________________________________________________________________________\n",
      "conv2d_201 (Conv2D)             (None, 64, 64, 128)  553088      batch_normalization_136[0][0]    \n",
      "__________________________________________________________________________________________________\n",
      "conv2d_202 (Conv2D)             (None, 64, 64, 64)   768064      batch_normalization_136[0][0]    \n",
      "__________________________________________________________________________________________________\n",
      "max_pooling2d_42 (MaxPooling2D) (None, 64, 64, 480)  0           batch_normalization_136[0][0]    \n",
      "__________________________________________________________________________________________________\n",
      "concatenate_35 (Concatenate)    (None, 64, 64, 704)  0           conv2d_200[0][0]                 \n",
      "                                                                 conv2d_201[0][0]                 \n",
      "                                                                 conv2d_202[0][0]                 \n",
      "                                                                 max_pooling2d_42[0][0]           \n",
      "__________________________________________________________________________________________________\n",
      "up_sampling2d_26 (UpSampling2D) (None, 128, 128, 704 0           concatenate_35[0][0]             \n",
      "__________________________________________________________________________________________________\n",
      "batch_normalization_137 (BatchN (None, 128, 128, 704 2816        up_sampling2d_26[0][0]           \n",
      "__________________________________________________________________________________________________\n",
      "conv2d_transpose_39 (Conv2DTran (None, 256, 256, 128 2252928     batch_normalization_137[0][0]    \n",
      "__________________________________________________________________________________________________\n",
      "conv2d_transpose_40 (Conv2DTran (None, 256, 256, 1)  3201        conv2d_transpose_39[0][0]        \n",
      "==================================================================================================\n",
      "Total params: 5,457,569\n",
      "Trainable params: 5,454,625\n",
      "Non-trainable params: 2,944\n",
      "__________________________________________________________________________________________________\n"
     ]
    }
   ],
   "source": [
    "lat_dim = 128\n",
    "latz = Input((lat_dim,))\n",
    "\n",
    "dlr0 = Dense(units=(16 * 16 * 32), activation=tf.nn.relu)(latz)\n",
    "res0 = Reshape(target_shape=(16, 16, 32))(dlr0)\n",
    "assert res0.shape.as_list() == [None, 16, 16, 32]\n",
    "\n",
    "btn0 = BatchNormalization(momentum=0.9)(res0)\n",
    "icp0 = inception_module(btn0, 32, 128, 64)\n",
    "ups0 = UpSampling2D((2, 2), interpolation='nearest')(icp0)\n",
    "assert ups0.shape.as_list() == [None, 32, 32, 256]\n",
    "\n",
    "btn1 = BatchNormalization(momentum=0.9)(ups0)\n",
    "icp1 = inception_module(btn1, 32, 128, 64)\n",
    "ups1 = UpSampling2D((2, 2), interpolation='nearest')(icp1)\n",
    "assert ups1.shape.as_list() == [None, 64, 64, 480]\n",
    "\n",
    "btn2 = BatchNormalization(momentum=0.9)(ups1)\n",
    "icp2 = inception_module(btn2, 32, 128, 64)\n",
    "ups2 = UpSampling2D((2, 2), interpolation='nearest')(icp2)\n",
    "assert ups2.shape.as_list() == [None, 128, 128, 704]\n",
    "\n",
    "btn3 = BatchNormalization(momentum=0.9)(ups2)\n",
    "icp3 = inception_module(btn3, 32, 128, 64)\n",
    "ups3 = UpSampling2D((2, 2), interpolation='nearest')(icp3)\n",
    "print(ups3.shape)\n",
    "assert ups3.shape.as_list() == [None, 256, 256, 128]\n",
    "\n",
    "out = Dense()\n",
    "\n",
    "model = Model([latz], cvt4)\n",
    "\n",
    "model.summary()"
   ]
  },
  {
   "cell_type": "code",
   "execution_count": 103,
   "metadata": {},
   "outputs": [
    {
     "data": {
      "text/plain": [
       "TensorShape([None, 16, 16, 256])"
      ]
     },
     "execution_count": 103,
     "metadata": {},
     "output_type": "execute_result"
    }
   ],
   "source": [
    "icp0."
   ]
  },
  {
   "cell_type": "code",
   "execution_count": null,
   "metadata": {},
   "outputs": [],
   "source": []
  },
  {
   "cell_type": "code",
   "execution_count": null,
   "metadata": {},
   "outputs": [],
   "source": []
  },
  {
   "cell_type": "code",
   "execution_count": null,
   "metadata": {},
   "outputs": [],
   "source": []
  },
  {
   "cell_type": "code",
   "execution_count": null,
   "metadata": {},
   "outputs": [],
   "source": []
  }
 ],
 "metadata": {
  "kernelspec": {
   "display_name": "Python 3",
   "language": "python",
   "name": "python3"
  },
  "language_info": {
   "codemirror_mode": {
    "name": "ipython",
    "version": 3
   },
   "file_extension": ".py",
   "mimetype": "text/x-python",
   "name": "python",
   "nbconvert_exporter": "python",
   "pygments_lexer": "ipython3",
   "version": "3.7.6"
  },
  "pycharm": {
   "stem_cell": {
    "cell_type": "raw",
    "metadata": {
     "collapsed": false
    },
    "source": []
   }
  }
 },
 "nbformat": 4,
 "nbformat_minor": 4
}
